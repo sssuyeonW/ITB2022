{
  "nbformat": 4,
  "nbformat_minor": 0,
  "metadata": {
    "colab": {
      "provenance": [],
      "authorship_tag": "ABX9TyPaX+RZoWMNPjw7n4A8sgER",
      "include_colab_link": true
    },
    "kernelspec": {
      "name": "python3",
      "display_name": "Python 3"
    },
    "language_info": {
      "name": "python"
    }
  },
  "cells": [
    {
      "cell_type": "markdown",
      "metadata": {
        "id": "view-in-github",
        "colab_type": "text"
      },
      "source": [
        "<a href=\"https://colab.research.google.com/github/sssuyeonW/ITB2022/blob/ITB-task-submit/%EB%8D%B0%EC%9D%B4%ED%84%B0_%EC%8B%9C%EA%B0%81%ED%99%94_2013815_%ED%99%8D%EB%B3%B4%EA%B4%91%EA%B3%A0%ED%95%99%EA%B3%BC_%EC%9A%B0%EC%88%98%EC%97%B0.ipynb\" target=\"_parent\"><img src=\"https://colab.research.google.com/assets/colab-badge.svg\" alt=\"Open In Colab\"/></a>"
      ]
    },
    {
      "cell_type": "markdown",
      "source": [
        "#**IT와 비즈니스 혁신 2022**\n",
        "# 시각화과제\n",
        "\n",
        "홍보광고학과 2013815 우수연"
      ],
      "metadata": {
        "id": "wYAGZwMvh1Ib"
      }
    },
    {
      "cell_type": "markdown",
      "source": [
        "# 데이터 시각화_ seaborn 이용하여 전개."
      ],
      "metadata": {
        "id": "d_o-sfe_9AIn"
      }
    },
    {
      "cell_type": "code",
      "execution_count": 89,
      "metadata": {
        "id": "3dN6dLqx8pkV"
      },
      "outputs": [],
      "source": [
        "import pandas as pd\n",
        "import seaborn as sns"
      ]
    },
    {
      "cell_type": "code",
      "source": [
        "sns.set_style(\"whitegrid\")"
      ],
      "metadata": {
        "id": "HFBmJ5Uh9si1"
      },
      "execution_count": 90,
      "outputs": []
    },
    {
      "cell_type": "code",
      "source": [
        "import pandas as pd\n",
        "\n",
        "healthdata=pd.read_csv(\"/content/health_data.csv\")\n",
        "display(healthdata.head())\n",
        "print(healthdata.info())"
      ],
      "metadata": {
        "colab": {
          "base_uri": "https://localhost:8080/",
          "height": 1000
        },
        "id": "AmBhZJts_GwV",
        "outputId": "1c6212e3-b065-42a6-8bd5-332b880e4e8f"
      },
      "execution_count": 91,
      "outputs": [
        {
          "output_type": "display_data",
          "data": {
            "text/plain": [
              "   HCHK_YEAR  IDV_ID  SIDO SEX  AGE_GROUP  HEIGHT  WEIGHT  WAIST  SIGHT_LEFT  \\\n",
              "0       2020       1    36   M          9     165      60   72.1         1.2   \n",
              "1       2020       2    27   F         13     150      65   81.0         0.8   \n",
              "2       2020       3    11   F         12     155      55   70.0         0.6   \n",
              "3       2020       4    31   M         13     160      70   90.8         1.0   \n",
              "4       2020       5    41   F         12     155      50   75.2         1.5   \n",
              "\n",
              "   SIGHT_RIGHT  ...  CREATININE  SGOT_AST  SGPT_ALT  GAMMA_GTP  \\\n",
              "0          1.5  ...         1.1      21.0      27.0       21.0   \n",
              "1          0.8  ...         0.5      18.0      15.0       15.0   \n",
              "2          0.7  ...         0.7      27.0      25.0        7.0   \n",
              "3          1.0  ...         1.2      65.0      97.0       72.0   \n",
              "4          1.2  ...         0.7      18.0      17.0       14.0   \n",
              "\n",
              "   SMK_STAT_TYPE_CD  DRK_YN  HCHK_OE_INSPEC_YN  CRS_YN  TTR_YN  DATA_STD_DT  \n",
              "0                No      No                  0     NaN     NaN     12/29/21  \n",
              "1                No      No                  0     NaN     NaN     12/29/21  \n",
              "2                No      No                  0     NaN     NaN     12/29/21  \n",
              "3                No      No                  1     0.0     0.0     12/29/21  \n",
              "4                No      No                  0     NaN     NaN     12/29/21  \n",
              "\n",
              "[5 rows x 31 columns]"
            ],
            "text/html": [
              "\n",
              "  <div id=\"df-aa3f08d6-b0c0-4180-ba97-21cd22a5676f\">\n",
              "    <div class=\"colab-df-container\">\n",
              "      <div>\n",
              "<style scoped>\n",
              "    .dataframe tbody tr th:only-of-type {\n",
              "        vertical-align: middle;\n",
              "    }\n",
              "\n",
              "    .dataframe tbody tr th {\n",
              "        vertical-align: top;\n",
              "    }\n",
              "\n",
              "    .dataframe thead th {\n",
              "        text-align: right;\n",
              "    }\n",
              "</style>\n",
              "<table border=\"1\" class=\"dataframe\">\n",
              "  <thead>\n",
              "    <tr style=\"text-align: right;\">\n",
              "      <th></th>\n",
              "      <th>HCHK_YEAR</th>\n",
              "      <th>IDV_ID</th>\n",
              "      <th>SIDO</th>\n",
              "      <th>SEX</th>\n",
              "      <th>AGE_GROUP</th>\n",
              "      <th>HEIGHT</th>\n",
              "      <th>WEIGHT</th>\n",
              "      <th>WAIST</th>\n",
              "      <th>SIGHT_LEFT</th>\n",
              "      <th>SIGHT_RIGHT</th>\n",
              "      <th>...</th>\n",
              "      <th>CREATININE</th>\n",
              "      <th>SGOT_AST</th>\n",
              "      <th>SGPT_ALT</th>\n",
              "      <th>GAMMA_GTP</th>\n",
              "      <th>SMK_STAT_TYPE_CD</th>\n",
              "      <th>DRK_YN</th>\n",
              "      <th>HCHK_OE_INSPEC_YN</th>\n",
              "      <th>CRS_YN</th>\n",
              "      <th>TTR_YN</th>\n",
              "      <th>DATA_STD_DT</th>\n",
              "    </tr>\n",
              "  </thead>\n",
              "  <tbody>\n",
              "    <tr>\n",
              "      <th>0</th>\n",
              "      <td>2020</td>\n",
              "      <td>1</td>\n",
              "      <td>36</td>\n",
              "      <td>M</td>\n",
              "      <td>9</td>\n",
              "      <td>165</td>\n",
              "      <td>60</td>\n",
              "      <td>72.1</td>\n",
              "      <td>1.2</td>\n",
              "      <td>1.5</td>\n",
              "      <td>...</td>\n",
              "      <td>1.1</td>\n",
              "      <td>21.0</td>\n",
              "      <td>27.0</td>\n",
              "      <td>21.0</td>\n",
              "      <td>No</td>\n",
              "      <td>No</td>\n",
              "      <td>0</td>\n",
              "      <td>NaN</td>\n",
              "      <td>NaN</td>\n",
              "      <td>12/29/21</td>\n",
              "    </tr>\n",
              "    <tr>\n",
              "      <th>1</th>\n",
              "      <td>2020</td>\n",
              "      <td>2</td>\n",
              "      <td>27</td>\n",
              "      <td>F</td>\n",
              "      <td>13</td>\n",
              "      <td>150</td>\n",
              "      <td>65</td>\n",
              "      <td>81.0</td>\n",
              "      <td>0.8</td>\n",
              "      <td>0.8</td>\n",
              "      <td>...</td>\n",
              "      <td>0.5</td>\n",
              "      <td>18.0</td>\n",
              "      <td>15.0</td>\n",
              "      <td>15.0</td>\n",
              "      <td>No</td>\n",
              "      <td>No</td>\n",
              "      <td>0</td>\n",
              "      <td>NaN</td>\n",
              "      <td>NaN</td>\n",
              "      <td>12/29/21</td>\n",
              "    </tr>\n",
              "    <tr>\n",
              "      <th>2</th>\n",
              "      <td>2020</td>\n",
              "      <td>3</td>\n",
              "      <td>11</td>\n",
              "      <td>F</td>\n",
              "      <td>12</td>\n",
              "      <td>155</td>\n",
              "      <td>55</td>\n",
              "      <td>70.0</td>\n",
              "      <td>0.6</td>\n",
              "      <td>0.7</td>\n",
              "      <td>...</td>\n",
              "      <td>0.7</td>\n",
              "      <td>27.0</td>\n",
              "      <td>25.0</td>\n",
              "      <td>7.0</td>\n",
              "      <td>No</td>\n",
              "      <td>No</td>\n",
              "      <td>0</td>\n",
              "      <td>NaN</td>\n",
              "      <td>NaN</td>\n",
              "      <td>12/29/21</td>\n",
              "    </tr>\n",
              "    <tr>\n",
              "      <th>3</th>\n",
              "      <td>2020</td>\n",
              "      <td>4</td>\n",
              "      <td>31</td>\n",
              "      <td>M</td>\n",
              "      <td>13</td>\n",
              "      <td>160</td>\n",
              "      <td>70</td>\n",
              "      <td>90.8</td>\n",
              "      <td>1.0</td>\n",
              "      <td>1.0</td>\n",
              "      <td>...</td>\n",
              "      <td>1.2</td>\n",
              "      <td>65.0</td>\n",
              "      <td>97.0</td>\n",
              "      <td>72.0</td>\n",
              "      <td>No</td>\n",
              "      <td>No</td>\n",
              "      <td>1</td>\n",
              "      <td>0.0</td>\n",
              "      <td>0.0</td>\n",
              "      <td>12/29/21</td>\n",
              "    </tr>\n",
              "    <tr>\n",
              "      <th>4</th>\n",
              "      <td>2020</td>\n",
              "      <td>5</td>\n",
              "      <td>41</td>\n",
              "      <td>F</td>\n",
              "      <td>12</td>\n",
              "      <td>155</td>\n",
              "      <td>50</td>\n",
              "      <td>75.2</td>\n",
              "      <td>1.5</td>\n",
              "      <td>1.2</td>\n",
              "      <td>...</td>\n",
              "      <td>0.7</td>\n",
              "      <td>18.0</td>\n",
              "      <td>17.0</td>\n",
              "      <td>14.0</td>\n",
              "      <td>No</td>\n",
              "      <td>No</td>\n",
              "      <td>0</td>\n",
              "      <td>NaN</td>\n",
              "      <td>NaN</td>\n",
              "      <td>12/29/21</td>\n",
              "    </tr>\n",
              "  </tbody>\n",
              "</table>\n",
              "<p>5 rows × 31 columns</p>\n",
              "</div>\n",
              "      <button class=\"colab-df-convert\" onclick=\"convertToInteractive('df-aa3f08d6-b0c0-4180-ba97-21cd22a5676f')\"\n",
              "              title=\"Convert this dataframe to an interactive table.\"\n",
              "              style=\"display:none;\">\n",
              "        \n",
              "  <svg xmlns=\"http://www.w3.org/2000/svg\" height=\"24px\"viewBox=\"0 0 24 24\"\n",
              "       width=\"24px\">\n",
              "    <path d=\"M0 0h24v24H0V0z\" fill=\"none\"/>\n",
              "    <path d=\"M18.56 5.44l.94 2.06.94-2.06 2.06-.94-2.06-.94-.94-2.06-.94 2.06-2.06.94zm-11 1L8.5 8.5l.94-2.06 2.06-.94-2.06-.94L8.5 2.5l-.94 2.06-2.06.94zm10 10l.94 2.06.94-2.06 2.06-.94-2.06-.94-.94-2.06-.94 2.06-2.06.94z\"/><path d=\"M17.41 7.96l-1.37-1.37c-.4-.4-.92-.59-1.43-.59-.52 0-1.04.2-1.43.59L10.3 9.45l-7.72 7.72c-.78.78-.78 2.05 0 2.83L4 21.41c.39.39.9.59 1.41.59.51 0 1.02-.2 1.41-.59l7.78-7.78 2.81-2.81c.8-.78.8-2.07 0-2.86zM5.41 20L4 18.59l7.72-7.72 1.47 1.35L5.41 20z\"/>\n",
              "  </svg>\n",
              "      </button>\n",
              "      \n",
              "  <style>\n",
              "    .colab-df-container {\n",
              "      display:flex;\n",
              "      flex-wrap:wrap;\n",
              "      gap: 12px;\n",
              "    }\n",
              "\n",
              "    .colab-df-convert {\n",
              "      background-color: #E8F0FE;\n",
              "      border: none;\n",
              "      border-radius: 50%;\n",
              "      cursor: pointer;\n",
              "      display: none;\n",
              "      fill: #1967D2;\n",
              "      height: 32px;\n",
              "      padding: 0 0 0 0;\n",
              "      width: 32px;\n",
              "    }\n",
              "\n",
              "    .colab-df-convert:hover {\n",
              "      background-color: #E2EBFA;\n",
              "      box-shadow: 0px 1px 2px rgba(60, 64, 67, 0.3), 0px 1px 3px 1px rgba(60, 64, 67, 0.15);\n",
              "      fill: #174EA6;\n",
              "    }\n",
              "\n",
              "    [theme=dark] .colab-df-convert {\n",
              "      background-color: #3B4455;\n",
              "      fill: #D2E3FC;\n",
              "    }\n",
              "\n",
              "    [theme=dark] .colab-df-convert:hover {\n",
              "      background-color: #434B5C;\n",
              "      box-shadow: 0px 1px 3px 1px rgba(0, 0, 0, 0.15);\n",
              "      filter: drop-shadow(0px 1px 2px rgba(0, 0, 0, 0.3));\n",
              "      fill: #FFFFFF;\n",
              "    }\n",
              "  </style>\n",
              "\n",
              "      <script>\n",
              "        const buttonEl =\n",
              "          document.querySelector('#df-aa3f08d6-b0c0-4180-ba97-21cd22a5676f button.colab-df-convert');\n",
              "        buttonEl.style.display =\n",
              "          google.colab.kernel.accessAllowed ? 'block' : 'none';\n",
              "\n",
              "        async function convertToInteractive(key) {\n",
              "          const element = document.querySelector('#df-aa3f08d6-b0c0-4180-ba97-21cd22a5676f');\n",
              "          const dataTable =\n",
              "            await google.colab.kernel.invokeFunction('convertToInteractive',\n",
              "                                                     [key], {});\n",
              "          if (!dataTable) return;\n",
              "\n",
              "          const docLinkHtml = 'Like what you see? Visit the ' +\n",
              "            '<a target=\"_blank\" href=https://colab.research.google.com/notebooks/data_table.ipynb>data table notebook</a>'\n",
              "            + ' to learn more about interactive tables.';\n",
              "          element.innerHTML = '';\n",
              "          dataTable['output_type'] = 'display_data';\n",
              "          await google.colab.output.renderOutput(dataTable, element);\n",
              "          const docLink = document.createElement('div');\n",
              "          docLink.innerHTML = docLinkHtml;\n",
              "          element.appendChild(docLink);\n",
              "        }\n",
              "      </script>\n",
              "    </div>\n",
              "  </div>\n",
              "  "
            ]
          },
          "metadata": {}
        },
        {
          "output_type": "stream",
          "name": "stdout",
          "text": [
            "<class 'pandas.core.frame.DataFrame'>\n",
            "RangeIndex: 10000 entries, 0 to 9999\n",
            "Data columns (total 31 columns):\n",
            " #   Column             Non-Null Count  Dtype  \n",
            "---  ------             --------------  -----  \n",
            " 0   HCHK_YEAR          10000 non-null  int64  \n",
            " 1   IDV_ID             10000 non-null  int64  \n",
            " 2   SIDO               10000 non-null  int64  \n",
            " 3   SEX                10000 non-null  object \n",
            " 4   AGE_GROUP          10000 non-null  int64  \n",
            " 5   HEIGHT             10000 non-null  int64  \n",
            " 6   WEIGHT             10000 non-null  int64  \n",
            " 7   WAIST              10000 non-null  float64\n",
            " 8   SIGHT_LEFT         10000 non-null  float64\n",
            " 9   SIGHT_RIGHT        10000 non-null  float64\n",
            " 10  HEAR_LEFT          10000 non-null  int64  \n",
            " 11  HEAR_RIGHT         10000 non-null  int64  \n",
            " 12  BP_HIGH            9912 non-null   float64\n",
            " 13  BP_LWST            9912 non-null   float64\n",
            " 14  BLDS               9912 non-null   float64\n",
            " 15  TOT_CHOLE          4044 non-null   float64\n",
            " 16  TRIGLYCERIDE       4044 non-null   float64\n",
            " 17  HDL_CHOLE          4044 non-null   float64\n",
            " 18  LDL_CHOLE          3977 non-null   float64\n",
            " 19  HMG                9912 non-null   float64\n",
            " 20  OLIG_PROTE_CD      9861 non-null   float64\n",
            " 21  CREATININE         9912 non-null   float64\n",
            " 22  SGOT_AST           9912 non-null   float64\n",
            " 23  SGPT_ALT           9912 non-null   float64\n",
            " 24  GAMMA_GTP          9912 non-null   float64\n",
            " 25  SMK_STAT_TYPE_CD   9998 non-null   object \n",
            " 26  DRK_YN             9999 non-null   object \n",
            " 27  HCHK_OE_INSPEC_YN  10000 non-null  int64  \n",
            " 28  CRS_YN             3251 non-null   float64\n",
            " 29  TTR_YN             3251 non-null   float64\n",
            " 30  DATA_STD_DT        10000 non-null  object \n",
            "dtypes: float64(18), int64(9), object(4)\n",
            "memory usage: 2.4+ MB\n",
            "None\n"
          ]
        }
      ]
    },
    {
      "cell_type": "markdown",
      "source": [
        "# **산점도**"
      ],
      "metadata": {
        "id": "d84-eOAICcZT"
      }
    },
    {
      "cell_type": "code",
      "source": [
        "#x축:수축기혈압 y축:이완기혈압 \n",
        "\n",
        "sns.scatterplot(data=healthdata, x='BP_HIGH', y='BP_LWST')"
      ],
      "metadata": {
        "colab": {
          "base_uri": "https://localhost:8080/",
          "height": 298
        },
        "id": "Nc2GKe1kCchp",
        "outputId": "3a52ca73-8326-498e-d929-51ea6a6f3b26"
      },
      "execution_count": 84,
      "outputs": [
        {
          "output_type": "execute_result",
          "data": {
            "text/plain": [
              "<matplotlib.axes._subplots.AxesSubplot at 0x7f63669a6410>"
            ]
          },
          "metadata": {},
          "execution_count": 84
        },
        {
          "output_type": "display_data",
          "data": {
            "text/plain": [
              "<Figure size 432x288 with 1 Axes>"
            ],
            "image/png": "[encoded data removed]"
          },
          "metadata": {}
        }
      ]
    },
    {
      "cell_type": "code",
      "source": [
        "sns.scatterplot(data=healthdata, x='BP_HIGH', y='BP_LWST').set(xlim=(160,200))"
      ],
      "metadata": {
        "colab": {
          "base_uri": "https://localhost:8080/",
          "height": 298
        },
        "id": "I6cKciUCFOxd",
        "outputId": "29797cff-02d9-4256-b819-359be0fe89a4"
      },
      "execution_count": 85,
      "outputs": [
        {
          "output_type": "execute_result",
          "data": {
            "text/plain": [
              "[(160.0, 200.0)]"
            ]
          },
          "metadata": {},
          "execution_count": 85
        },
        {
          "output_type": "display_data",
          "data": {
            "text/plain": [
              "<Figure size 432x288 with 1 Axes>"
            ],
            "image/png": "[encoded data removed]"
          },
          "metadata": {}
        }
      ]
    },
    {
      "cell_type": "markdown",
      "source": [
        "**인사이트:**\n",
        "수축기혈압(x)과 이완기혈압(y)의 관계에 대하여 산점도를 통해 시각화하였다. 전체적으로 한 쪽 변인의 크기가 커질수록 다른 쪽 변인의 크기도 커지는 선형 관계를 보였다. 또한 이완기혈압이 일정이상 커진 후에는 수축기혈압이 높아져도 비슷한 이완기혈압값을 보였다."
      ],
      "metadata": {
        "id": "mLxzRRQHJB-S"
      }
    },
    {
      "cell_type": "markdown",
      "source": [
        "# **막대 그래프**"
      ],
      "metadata": {
        "id": "N2ginawMJCHq"
      }
    },
    {
      "cell_type": "code",
      "source": [
        "df_healthdata = healthdata.groupby('SEX',as_index=False).agg(meanBLDS=('BLDS','mean'))\n",
        "df_healthdata\n"
      ],
      "metadata": {
        "colab": {
          "base_uri": "https://localhost:8080/",
          "height": 112
        },
        "id": "uGJowwqnJDb8",
        "outputId": "e94f90e7-c6af-4fed-ae28-c4fb5b01c55f"
      },
      "execution_count": 92,
      "outputs": [
        {
          "output_type": "execute_result",
          "data": {
            "text/plain": [
              "  SEX    meanBLDS\n",
              "0   F  100.250624\n",
              "1   M  107.099922"
            ],
            "text/html": [
              "\n",
              "  <div id=\"df-7895908c-8899-44b3-9e3f-1211b8f72c54\">\n",
              "    <div class=\"colab-df-container\">\n",
              "      <div>\n",
              "<style scoped>\n",
              "    .dataframe tbody tr th:only-of-type {\n",
              "        vertical-align: middle;\n",
              "    }\n",
              "\n",
              "    .dataframe tbody tr th {\n",
              "        vertical-align: top;\n",
              "    }\n",
              "\n",
              "    .dataframe thead th {\n",
              "        text-align: right;\n",
              "    }\n",
              "</style>\n",
              "<table border=\"1\" class=\"dataframe\">\n",
              "  <thead>\n",
              "    <tr style=\"text-align: right;\">\n",
              "      <th></th>\n",
              "      <th>SEX</th>\n",
              "      <th>meanBLDS</th>\n",
              "    </tr>\n",
              "  </thead>\n",
              "  <tbody>\n",
              "    <tr>\n",
              "      <th>0</th>\n",
              "      <td>F</td>\n",
              "      <td>100.250624</td>\n",
              "    </tr>\n",
              "    <tr>\n",
              "      <th>1</th>\n",
              "      <td>M</td>\n",
              "      <td>107.099922</td>\n",
              "    </tr>\n",
              "  </tbody>\n",
              "</table>\n",
              "</div>\n",
              "      <button class=\"colab-df-convert\" onclick=\"convertToInteractive('df-7895908c-8899-44b3-9e3f-1211b8f72c54')\"\n",
              "              title=\"Convert this dataframe to an interactive table.\"\n",
              "              style=\"display:none;\">\n",
              "        \n",
              "  <svg xmlns=\"http://www.w3.org/2000/svg\" height=\"24px\"viewBox=\"0 0 24 24\"\n",
              "       width=\"24px\">\n",
              "    <path d=\"M0 0h24v24H0V0z\" fill=\"none\"/>\n",
              "    <path d=\"M18.56 5.44l.94 2.06.94-2.06 2.06-.94-2.06-.94-.94-2.06-.94 2.06-2.06.94zm-11 1L8.5 8.5l.94-2.06 2.06-.94-2.06-.94L8.5 2.5l-.94 2.06-2.06.94zm10 10l.94 2.06.94-2.06 2.06-.94-2.06-.94-.94-2.06-.94 2.06-2.06.94z\"/><path d=\"M17.41 7.96l-1.37-1.37c-.4-.4-.92-.59-1.43-.59-.52 0-1.04.2-1.43.59L10.3 9.45l-7.72 7.72c-.78.78-.78 2.05 0 2.83L4 21.41c.39.39.9.59 1.41.59.51 0 1.02-.2 1.41-.59l7.78-7.78 2.81-2.81c.8-.78.8-2.07 0-2.86zM5.41 20L4 18.59l7.72-7.72 1.47 1.35L5.41 20z\"/>\n",
              "  </svg>\n",
              "      </button>\n",
              "      \n",
              "  <style>\n",
              "    .colab-df-container {\n",
              "      display:flex;\n",
              "      flex-wrap:wrap;\n",
              "      gap: 12px;\n",
              "    }\n",
              "\n",
              "    .colab-df-convert {\n",
              "      background-color: #E8F0FE;\n",
              "      border: none;\n",
              "      border-radius: 50%;\n",
              "      cursor: pointer;\n",
              "      display: none;\n",
              "      fill: #1967D2;\n",
              "      height: 32px;\n",
              "      padding: 0 0 0 0;\n",
              "      width: 32px;\n",
              "    }\n",
              "\n",
              "    .colab-df-convert:hover {\n",
              "      background-color: #E2EBFA;\n",
              "      box-shadow: 0px 1px 2px rgba(60, 64, 67, 0.3), 0px 1px 3px 1px rgba(60, 64, 67, 0.15);\n",
              "      fill: #174EA6;\n",
              "    }\n",
              "\n",
              "    [theme=dark] .colab-df-convert {\n",
              "      background-color: #3B4455;\n",
              "      fill: #D2E3FC;\n",
              "    }\n",
              "\n",
              "    [theme=dark] .colab-df-convert:hover {\n",
              "      background-color: #434B5C;\n",
              "      box-shadow: 0px 1px 3px 1px rgba(0, 0, 0, 0.15);\n",
              "      filter: drop-shadow(0px 1px 2px rgba(0, 0, 0, 0.3));\n",
              "      fill: #FFFFFF;\n",
              "    }\n",
              "  </style>\n",
              "\n",
              "      <script>\n",
              "        const buttonEl =\n",
              "          document.querySelector('#df-7895908c-8899-44b3-9e3f-1211b8f72c54 button.colab-df-convert');\n",
              "        buttonEl.style.display =\n",
              "          google.colab.kernel.accessAllowed ? 'block' : 'none';\n",
              "\n",
              "        async function convertToInteractive(key) {\n",
              "          const element = document.querySelector('#df-7895908c-8899-44b3-9e3f-1211b8f72c54');\n",
              "          const dataTable =\n",
              "            await google.colab.kernel.invokeFunction('convertToInteractive',\n",
              "                                                     [key], {});\n",
              "          if (!dataTable) return;\n",
              "\n",
              "          const docLinkHtml = 'Like what you see? Visit the ' +\n",
              "            '<a target=\"_blank\" href=https://colab.research.google.com/notebooks/data_table.ipynb>data table notebook</a>'\n",
              "            + ' to learn more about interactive tables.';\n",
              "          element.innerHTML = '';\n",
              "          dataTable['output_type'] = 'display_data';\n",
              "          await google.colab.output.renderOutput(dataTable, element);\n",
              "          const docLink = document.createElement('div');\n",
              "          docLink.innerHTML = docLinkHtml;\n",
              "          element.appendChild(docLink);\n",
              "        }\n",
              "      </script>\n",
              "    </div>\n",
              "  </div>\n",
              "  "
            ]
          },
          "metadata": {},
          "execution_count": 92
        }
      ]
    },
    {
      "cell_type": "code",
      "source": [
        "sns.barplot(data=df_healthdata, x='SEX', y='meanBLDS')"
      ],
      "metadata": {
        "colab": {
          "base_uri": "https://localhost:8080/",
          "height": 297
        },
        "id": "4OXaAiafJOBX",
        "outputId": "06c45275-349f-4586-d411-94d139d122a3"
      },
      "execution_count": 93,
      "outputs": [
        {
          "output_type": "execute_result",
          "data": {
            "text/plain": [
              "<matplotlib.axes._subplots.AxesSubplot at 0x7f6365fcb490>"
            ]
          },
          "metadata": {},
          "execution_count": 93
        },
        {
          "output_type": "display_data",
          "data": {
            "text/plain": [
              "<Figure size 432x288 with 1 Axes>"
            ],
            "image/png": "[encoded data removed]"
          },
          "metadata": {}
        }
      ]
    },
    {
      "cell_type": "markdown",
      "source": [
        "**인사이트:**\n",
        "성별에 따른 식전혈당(공복혈당)의 비교를 막대 그래프를 통하여 시각화하였다. 성별은 여성(F)과 남성(M)으로 나뉘었으며, 여성의 평균 식전혈당은 약 100으로, 남성의 평균 식전혈당은 107로 남성의 식전혈당이 여성에 비하여 높은 편임을 알 수 있었다.\n",
        "\n",
        "\n",
        "\n",
        "\n",
        "\n"
      ],
      "metadata": {
        "id": "5LZgWD5xTtur"
      }
    },
    {
      "cell_type": "markdown",
      "source": [
        "# **선 그래프**"
      ],
      "metadata": {
        "id": "I0y0KoZThJxD"
      }
    },
    {
      "cell_type": "code",
      "source": [
        "healthdata=pd.read_csv(\"/content/health_data.csv\")\n",
        "display(economics.head())\n",
        "healthdata.info()"
      ],
      "metadata": {
        "colab": {
          "base_uri": "https://localhost:8080/"
        },
        "id": "EEUr6Lrtb9vn",
        "outputId": "0c08567e-907c-489c-eb2b-75fc250a001d"
      },
      "execution_count": 95,
      "outputs": [
        {
          "output_type": "stream",
          "name": "stdout",
          "text": [
            "<class 'pandas.core.frame.DataFrame'>\n",
            "RangeIndex: 10000 entries, 0 to 9999\n",
            "Data columns (total 31 columns):\n",
            " #   Column             Non-Null Count  Dtype  \n",
            "---  ------             --------------  -----  \n",
            " 0   HCHK_YEAR          10000 non-null  int64  \n",
            " 1   IDV_ID             10000 non-null  int64  \n",
            " 2   SIDO               10000 non-null  int64  \n",
            " 3   SEX                10000 non-null  object \n",
            " 4   AGE_GROUP          10000 non-null  int64  \n",
            " 5   HEIGHT             10000 non-null  int64  \n",
            " 6   WEIGHT             10000 non-null  int64  \n",
            " 7   WAIST              10000 non-null  float64\n",
            " 8   SIGHT_LEFT         10000 non-null  float64\n",
            " 9   SIGHT_RIGHT        10000 non-null  float64\n",
            " 10  HEAR_LEFT          10000 non-null  int64  \n",
            " 11  HEAR_RIGHT         10000 non-null  int64  \n",
            " 12  BP_HIGH            9912 non-null   float64\n",
            " 13  BP_LWST            9912 non-null   float64\n",
            " 14  BLDS               9912 non-null   float64\n",
            " 15  TOT_CHOLE          4044 non-null   float64\n",
            " 16  TRIGLYCERIDE       4044 non-null   float64\n",
            " 17  HDL_CHOLE          4044 non-null   float64\n",
            " 18  LDL_CHOLE          3977 non-null   float64\n",
            " 19  HMG                9912 non-null   float64\n",
            " 20  OLIG_PROTE_CD      9861 non-null   float64\n",
            " 21  CREATININE         9912 non-null   float64\n",
            " 22  SGOT_AST           9912 non-null   float64\n",
            " 23  SGPT_ALT           9912 non-null   float64\n",
            " 24  GAMMA_GTP          9912 non-null   float64\n",
            " 25  SMK_STAT_TYPE_CD   9998 non-null   object \n",
            " 26  DRK_YN             9999 non-null   object \n",
            " 27  HCHK_OE_INSPEC_YN  10000 non-null  int64  \n",
            " 28  CRS_YN             3251 non-null   float64\n",
            " 29  TTR_YN             3251 non-null   float64\n",
            " 30  DATA_STD_DT        10000 non-null  object \n",
            "dtypes: float64(18), int64(9), object(4)\n",
            "memory usage: 2.4+ MB\n"
          ]
        }
      ]
    },
    {
      "cell_type": "code",
      "source": [
        "sns.lineplot(data=healthdata, x='AGE_GROUP', y='TOT_CHOLE')"
      ],
      "metadata": {
        "colab": {
          "base_uri": "https://localhost:8080/",
          "height": 298
        },
        "id": "2o2gCnfZWfnH",
        "outputId": "b9bf55ef-fb6b-43f3-b5c7-892e8220dfdc"
      },
      "execution_count": 100,
      "outputs": [
        {
          "output_type": "execute_result",
          "data": {
            "text/plain": [
              "<matplotlib.axes._subplots.AxesSubplot at 0x7f6365ab3410>"
            ]
          },
          "metadata": {},
          "execution_count": 100
        },
        {
          "output_type": "display_data",
          "data": {
            "text/plain": [
              "<Figure size 432x288 with 1 Axes>"
            ],
            "image/png": "[encoded data removed]"
          },
          "metadata": {}
        }
      ]
    },
    {
      "cell_type": "markdown",
      "source": [
        "**인사이트:**\n",
        "  해당 그래프는 데이터 중 40세 이상의 연령대의 총 콜레스테롤 수치를 선 그래프로 나타낸 것이다. 이를 통해 콜레스테롤 수치가 12번 그룹(55~59세)에서 가장 높았고, 노년층에 비해 중장년층 측에서 전반적으로 총 콜레스테롤 수치가 높게 나타났음을 알 수 있다.  \n"
      ],
      "metadata": {
        "id": "LZKHpxsFfCxg"
      }
    }
  ]
}